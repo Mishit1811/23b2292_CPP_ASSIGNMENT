{
  "nbformat": 4,
  "nbformat_minor": 0,
  "metadata": {
    "colab": {
      "provenance": []
    },
    "kernelspec": {
      "name": "python3",
      "display_name": "Python 3"
    },
    "language_info": {
      "name": "python"
    }
  },
  "cells": [
    {
      "cell_type": "markdown",
      "source": [
        "ANSWER 1 A"
      ],
      "metadata": {
        "id": "Uqgmwb56jZNn"
      }
    },
    {
      "cell_type": "code",
      "source": [
        "def F(n):\n",
        "    for i in range(1, n + 1):\n",
        "        dahses = '-' * (n - i)\n",
        "        chars = ''.join(chr(65 + abs(j)) for j in range(-i + 1, i))\n",
        "        print( dahses + chars +  dahses)\n",
        "\n",
        "# Tests\n",
        "F(10)\n",
        "F(6)\n"
      ],
      "metadata": {
        "colab": {
          "base_uri": "https://localhost:8080/"
        },
        "collapsed": true,
        "id": "j6RwaNlj9mCm",
        "outputId": "6ebb3879-e24f-4de9-c225-2b7507d5728e"
      },
      "execution_count": 1,
      "outputs": [
        {
          "output_type": "stream",
          "name": "stdout",
          "text": [
            "---------A---------\n",
            "--------BAB--------\n",
            "-------CBABC-------\n",
            "------DCBABCD------\n",
            "-----EDCBABCDE-----\n",
            "----FEDCBABCDEF----\n",
            "---GFEDCBABCDEFG---\n",
            "--HGFEDCBABCDEFGH--\n",
            "-IHGFEDCBABCDEFGHI-\n",
            "JIHGFEDCBABCDEFGHIJ\n",
            "-----A-----\n",
            "----BAB----\n",
            "---CBABC---\n",
            "--DCBABCD--\n",
            "-EDCBABCDE-\n",
            "FEDCBABCDEF\n"
          ]
        }
      ]
    },
    {
      "cell_type": "markdown",
      "source": [
        "ANSWER 1 B"
      ],
      "metadata": {
        "id": "lNCWcT95jWhJ"
      }
    },
    {
      "cell_type": "code",
      "source": [
        "def F(d: dict):\n",
        "\n",
        "    sort_keys = sorted(d.items(), key=lambda item: item[0])\n",
        "    print(\"Sorted by keys (ascending):\")\n",
        "    for key, (x, y) in sort_keys:\n",
        "        print(f\"-{key}-, -{x}-, -{y}-\")\n",
        "\n",
        "\n",
        "    sort_x = sorted(d.items(), key=lambda item: item[1][0], reverse=True)\n",
        "    print(\"Sorted by x (descending):\")\n",
        "    for key, (x, y) in sort_x:\n",
        "        print(f\"-{key}-, -{x}-, -{y}-\")\n",
        "\n",
        "\n",
        "    sort_y = sorted(d.items(), key=lambda item: item[1][1])\n",
        "    print(\"Sorted by y (ascending):\")\n",
        "    for key, (x, y) in sort_y:\n",
        "        print(f\"-{key}-, -{x}-, -{y}-\")\n",
        "\n",
        "# Tests\n",
        "F({1: (1, 2), 2: (-1, 4), 5: (-4, 3), 4: (2, 3)})\n",
        "F({-8: (4, 2), 6: (-3, 4), 7: (2, 1), 5: (9, -10)})\n"
      ],
      "metadata": {
        "colab": {
          "base_uri": "https://localhost:8080/"
        },
        "collapsed": true,
        "id": "o1KR9yFofqoo",
        "outputId": "55badf78-0b5e-47e7-f10d-9ed11fd7563e"
      },
      "execution_count": 2,
      "outputs": [
        {
          "output_type": "stream",
          "name": "stdout",
          "text": [
            "Sorted by keys (ascending):\n",
            "-1-, -1-, -2-\n",
            "-2-, --1-, -4-\n",
            "-4-, -2-, -3-\n",
            "-5-, --4-, -3-\n",
            "Sorted by x (descending):\n",
            "-4-, -2-, -3-\n",
            "-1-, -1-, -2-\n",
            "-2-, --1-, -4-\n",
            "-5-, --4-, -3-\n",
            "Sorted by y (ascending):\n",
            "-1-, -1-, -2-\n",
            "-5-, --4-, -3-\n",
            "-4-, -2-, -3-\n",
            "-2-, --1-, -4-\n",
            "Sorted by keys (ascending):\n",
            "--8-, -4-, -2-\n",
            "-5-, -9-, --10-\n",
            "-6-, --3-, -4-\n",
            "-7-, -2-, -1-\n",
            "Sorted by x (descending):\n",
            "-5-, -9-, --10-\n",
            "--8-, -4-, -2-\n",
            "-7-, -2-, -1-\n",
            "-6-, --3-, -4-\n",
            "Sorted by y (ascending):\n",
            "-5-, -9-, --10-\n",
            "-7-, -2-, -1-\n",
            "--8-, -4-, -2-\n",
            "-6-, --3-, -4-\n"
          ]
        }
      ]
    },
    {
      "cell_type": "markdown",
      "source": [
        "ANSWER 2 A"
      ],
      "metadata": {
        "id": "0k_jg3rPjhGE"
      }
    },
    {
      "cell_type": "code",
      "source": [
        "with open(\"student_records.csv\", \"r\") as file:\n",
        "    lines = file.readlines()\n",
        "\n",
        "for i, line in enumerate(lines[:10]):\n",
        "    print(f\"Row {i+1}: {line.strip()}\")\n"
      ],
      "metadata": {
        "colab": {
          "base_uri": "https://localhost:8080/"
        },
        "collapsed": true,
        "id": "D7R6Gvp8jjjv",
        "outputId": "1c688066-dcc2-415f-ff4b-d74c85ffd9c8"
      },
      "execution_count": 3,
      "outputs": [
        {
          "output_type": "stream",
          "name": "stdout",
          "text": [
            "Row 1: roll_number,department,credit,course_name,course_type,grade\n",
            "Row 2: 588946,MA,3,EC250,hasmed_elective,AB\n",
            "Row 3: 145372,EP,4,EP407,hasmed_elective,CC\n",
            "Row 4: 834515,MA,8,EP885,hasmed_elective,BB\n",
            "Row 5: 344265,CSE,6,CSE699,honours,AB\n",
            "Row 6: 358405,MA,3,EE460,minor,AP\n",
            "Row 7: 781075,CE,8,CE540,honours,CC\n",
            "Row 8: 180828,CSE,6,CE880,minor,AB\n",
            "Row 9: 981238,MM,4,CSE226,minor,AB\n",
            "Row 10: 836881,MM,8,MM530,core,AA\n"
          ]
        }
      ]
    },
    {
      "cell_type": "markdown",
      "source": [
        "ANSWER 2 B"
      ],
      "metadata": {
        "id": "GrZIHTMcj-9N"
      }
    },
    {
      "cell_type": "code",
      "source": [
        "grade_to_points = {\n",
        "    \"AP\": 10,\n",
        "    \"AA\": 10,\n",
        "    \"AB\": 9,\n",
        "    \"BB\": 8,\n",
        "    \"BC\": 7,\n",
        "    \"CC\": 6,\n",
        "}\n",
        "file_path = \"student_records.csv\"\n",
        "import csv\n",
        "def calculate_cpi(file_path):\n",
        "    student_data = {}\n",
        "    with open(file_path, mode=\"r\") as file:\n",
        "        csv_reader = csv.DictReader(file)\n",
        "        for row in csv_reader:\n",
        "            roll_number = row[\"roll_number\"]\n",
        "            credit = int(row[\"credit\"])\n",
        "            grade = row[\"grade\"]\n",
        "\n",
        "            if roll_number not in student_data:\n",
        "                student_data[roll_number] = {\"total_credits\": 0, \"weighted_grades\": 0}\n",
        "\n",
        "            points = grade_to_points.get(grade, 0)\n",
        "            student_data[roll_number][\"total_credits\"] += credit\n",
        "            student_data[roll_number][\"weighted_grades\"] += points * credit\n",
        "\n",
        "    results = {}\n",
        "    for roll_number, data in student_data.items():\n",
        "        total_credits = data[\"total_credits\"]\n",
        "        weighted_grades = data[\"weighted_grades\"]\n",
        "        cpi = weighted_grades / total_credits if total_credits > 0 else 0\n",
        "        results[roll_number] = {\"Total Credits\": total_credits, \"CPI\": round(cpi, 2)}\n",
        "\n",
        "    return results\n",
        "\n",
        "\n",
        "\n",
        "results = calculate_cpi(file_path)\n",
        "print(\"Roll Number, Total Credits, CPI\")\n",
        "for roll_number, info in results.items():\n",
        "    print(f\"{roll_number}, {info['Total Credits']}, {info['CPI']}\")\n"
      ],
      "metadata": {
        "colab": {
          "base_uri": "https://localhost:8080/"
        },
        "collapsed": true,
        "id": "Dljrh_fwj__D",
        "outputId": "5078dd1f-7cf3-4fde-9f1f-f0908e995ad0"
      },
      "execution_count": 4,
      "outputs": [
        {
          "output_type": "stream",
          "name": "stdout",
          "text": [
            "Roll Number, Total Credits, CPI\n",
            "588946, 199, 8.69\n",
            "145372, 173, 7.75\n",
            "834515, 199, 8.22\n",
            "344265, 153, 8.7\n",
            "358405, 206, 8.59\n",
            "781075, 246, 8.17\n",
            "180828, 177, 8.1\n",
            "981238, 168, 8.24\n",
            "836881, 246, 8.39\n",
            "310604, 198, 8.33\n",
            "847809, 261, 8.21\n",
            "773982, 264, 8.07\n",
            "500658, 208, 8.17\n",
            "810863, 192, 8.15\n",
            "124663, 229, 8.13\n",
            "364146, 225, 8.4\n",
            "871746, 216, 8.21\n",
            "270007, 241, 8.03\n",
            "597353, 200, 8.12\n",
            "986057, 199, 8.07\n",
            "718510, 184, 8.43\n",
            "836431, 160, 7.9\n",
            "379479, 260, 8.25\n",
            "582912, 221, 8.66\n",
            "788020, 193, 8.02\n",
            "613401, 209, 8.44\n",
            "144528, 228, 8.16\n",
            "485484, 216, 8.36\n",
            "680096, 153, 8.05\n",
            "199713, 172, 8.29\n",
            "851029, 161, 8.32\n",
            "845623, 237, 8.38\n",
            "150503, 173, 8.29\n",
            "214270, 229, 7.88\n",
            "517837, 205, 8.58\n",
            "482623, 254, 8.4\n",
            "721490, 235, 8.34\n",
            "955757, 251, 8.29\n",
            "589528, 153, 8.73\n",
            "143856, 201, 8.49\n",
            "571782, 217, 8.42\n",
            "973158, 193, 8.51\n",
            "703403, 254, 8.34\n",
            "960395, 262, 8.63\n",
            "521087, 223, 7.91\n",
            "461971, 252, 8.29\n",
            "879634, 203, 8.74\n",
            "716985, 185, 8.18\n",
            "194063, 157, 8.14\n",
            "265922, 236, 8.35\n",
            "283796, 211, 8.82\n",
            "203200, 157, 8.79\n",
            "301135, 206, 8.33\n",
            "327122, 246, 8.16\n",
            "381526, 160, 8.43\n",
            "534763, 158, 7.93\n",
            "391848, 217, 8.44\n",
            "329535, 157, 8.23\n",
            "971123, 210, 7.96\n",
            "207443, 161, 8.3\n",
            "488661, 248, 8.6\n",
            "782129, 184, 8.54\n",
            "928288, 191, 8.51\n",
            "581858, 216, 8.05\n",
            "733782, 169, 8.42\n",
            "282482, 228, 8.29\n",
            "572815, 212, 8.32\n",
            "608952, 251, 8.33\n",
            "628849, 183, 8.72\n",
            "630568, 217, 8.24\n",
            "388969, 229, 8.31\n",
            "159438, 176, 8.38\n",
            "478606, 244, 8.32\n",
            "995208, 157, 7.78\n",
            "841365, 177, 7.99\n",
            "870642, 161, 8.02\n",
            "970791, 220, 8.12\n",
            "143142, 234, 8.78\n",
            "998293, 207, 8.7\n",
            "907454, 245, 8.27\n",
            "681499, 234, 8.26\n",
            "888886, 207, 8.27\n",
            "608522, 159, 8.61\n",
            "362471, 214, 7.93\n",
            "465496, 168, 8.3\n",
            "208100, 182, 8.59\n",
            "138296, 200, 8.28\n",
            "775967, 197, 8.43\n",
            "692318, 216, 8.17\n",
            "461584, 234, 8.24\n",
            "626000, 210, 8.43\n",
            "458200, 190, 8.39\n",
            "581065, 196, 8.22\n",
            "787967, 192, 8.41\n",
            "381227, 179, 8.22\n",
            "750259, 209, 8.35\n",
            "881983, 169, 8.33\n",
            "294697, 269, 8.57\n",
            "816041, 158, 8.46\n",
            "993835, 175, 8.43\n"
          ]
        }
      ]
    },
    {
      "cell_type": "markdown",
      "source": [
        "ANSWER 2 C"
      ],
      "metadata": {
        "id": "Elbp7yjkmWar"
      }
    },
    {
      "cell_type": "code",
      "source": [
        "requirements = {\n",
        "    \"core\": 20,\n",
        "    \"department_elective\": 15,\n",
        "    \"flexible_elective\": 10,\n",
        "    \"hasmed_elective\": 5,\n",
        "}\n",
        "file_path = \"student_records.csv\"\n",
        "def graduation_eligibility(file_path, requirements):\n",
        "    student_data = {}\n",
        "\n",
        "    with open(file_path, mode=\"r\") as file:\n",
        "        csv_reader = csv.DictReader(file)\n",
        "        for row in csv_reader:\n",
        "            roll_number = row[\"roll_number\"]\n",
        "            course_type = row[\"course_type\"]\n",
        "            credit = int(row[\"credit\"])\n",
        "\n",
        "            if roll_number not in student_data:\n",
        "                student_data[roll_number] = {\n",
        "                    \"core\": 0,\n",
        "                    \"department_elective\": 0,\n",
        "                    \"flexible_elective\": 0,\n",
        "                    \"hasmed_elective\": 0,\n",
        "                }\n",
        "\n",
        "            if course_type in student_data[roll_number]:\n",
        "                student_data[roll_number][course_type] += credit\n",
        "\n",
        "    eligible_students = []\n",
        "    for roll_number, credit_data in student_data.items():\n",
        "        if all(credit_data[category] >= requirements[category] for category in requirements):\n",
        "            eligible_students.append(roll_number)\n",
        "\n",
        "    return eligible_students\n",
        "\n",
        "eligible_students = graduation_eligibility(file_path, requirements)\n",
        "\n",
        "if eligible_students:\n",
        "    print(\"Roll Numbers of Students Meeting Graduation Requirements:\")\n",
        "    print(\"\\n\".join(eligible_students))\n",
        "else:\n",
        "    print(\"No students meet the graduation requirements.\")\n"
      ],
      "metadata": {
        "colab": {
          "base_uri": "https://localhost:8080/"
        },
        "collapsed": true,
        "id": "_5OiT80emWpO",
        "outputId": "3ce1d3e4-5820-48af-cf04-00319536b10f"
      },
      "execution_count": 5,
      "outputs": [
        {
          "output_type": "stream",
          "name": "stdout",
          "text": [
            "Roll Numbers of Students Meeting Graduation Requirements:\n",
            "588946\n",
            "834515\n",
            "781075\n",
            "180828\n",
            "981238\n",
            "836881\n",
            "310604\n",
            "773982\n",
            "500658\n",
            "810863\n",
            "124663\n",
            "871746\n",
            "986057\n",
            "379479\n",
            "144528\n",
            "485484\n",
            "845623\n",
            "150503\n",
            "214270\n",
            "517837\n",
            "482623\n",
            "721490\n",
            "955757\n",
            "143856\n",
            "571782\n",
            "973158\n",
            "703403\n",
            "960395\n",
            "521087\n",
            "461971\n",
            "879634\n",
            "716985\n",
            "265922\n",
            "283796\n",
            "203200\n",
            "327122\n",
            "534763\n",
            "391848\n",
            "971123\n",
            "207443\n",
            "488661\n",
            "782129\n",
            "928288\n",
            "581858\n",
            "282482\n",
            "572815\n",
            "608952\n",
            "628849\n",
            "630568\n",
            "388969\n",
            "159438\n",
            "970791\n",
            "143142\n",
            "998293\n",
            "681499\n",
            "888886\n",
            "608522\n",
            "362471\n",
            "692318\n",
            "626000\n",
            "581065\n",
            "787967\n",
            "381227\n",
            "750259\n",
            "881983\n",
            "294697\n"
          ]
        }
      ]
    },
    {
      "cell_type": "markdown",
      "source": [
        "ANSWER 2 D"
      ],
      "metadata": {
        "id": "lFPuKa1OmfNU"
      }
    },
    {
      "cell_type": "code",
      "source": [
        "file_path = \"student_records.csv\"\n",
        "\n",
        "def find_students_with_minor(file_path, required_minor_credits):\n",
        "    student_minors = {}\n",
        "\n",
        "    with open(file_path, mode=\"r\") as file:\n",
        "        csv_reader = csv.DictReader(file)\n",
        "        for row in csv_reader:\n",
        "            roll_number = row[\"roll_number\"]\n",
        "            department = row[\"department\"]\n",
        "            course_type = row[\"course_type\"]\n",
        "            credit = int(row[\"credit\"])\n",
        "\n",
        "            if course_type == \"minor\":\n",
        "                if roll_number not in student_minors:\n",
        "                    student_minors[roll_number] = {}\n",
        "                if department not in student_minors[roll_number]:\n",
        "                    student_minors[roll_number][department] = 0\n",
        "\n",
        "                student_minors[roll_number][department] += credit\n",
        "\n",
        "    eligible_students = []\n",
        "    for roll_number, departments in student_minors.items():\n",
        "        for department, total_credits in departments.items():\n",
        "            if total_credits >= required_minor_credits:\n",
        "                eligible_students.append((roll_number, department))\n",
        "\n",
        "    return eligible_students\n",
        "\n",
        "\n",
        "required_minor_credits = 10\n",
        "\n",
        "eligible_students = find_students_with_minor(file_path, required_minor_credits)\n",
        "\n",
        "if eligible_students:\n",
        "    print(\"Roll Numbers of Students Who Completed a Minor:\")\n",
        "    for roll_number, department in eligible_students:\n",
        "        print(f\"Roll Number: {roll_number}, Minor Department: {department}\")\n",
        "else:\n",
        "    print(\"No students have completed a minor.\")\n"
      ],
      "metadata": {
        "colab": {
          "base_uri": "https://localhost:8080/"
        },
        "collapsed": true,
        "id": "KKWTZMjBmfXw",
        "outputId": "47b84e03-3bf6-4a35-8daa-68197b1cd309"
      },
      "execution_count": 6,
      "outputs": [
        {
          "output_type": "stream",
          "name": "stdout",
          "text": [
            "Roll Numbers of Students Who Completed a Minor:\n",
            "Roll Number: 358405, Minor Department: MA\n",
            "Roll Number: 180828, Minor Department: CSE\n",
            "Roll Number: 981238, Minor Department: MM\n",
            "Roll Number: 847809, Minor Department: IE\n",
            "Roll Number: 270007, Minor Department: IE\n",
            "Roll Number: 781075, Minor Department: CE\n",
            "Roll Number: 986057, Minor Department: ME\n",
            "Roll Number: 124663, Minor Department: EE\n",
            "Roll Number: 364146, Minor Department: MA\n",
            "Roll Number: 517837, Minor Department: CH\n",
            "Roll Number: 721490, Minor Department: EP\n",
            "Roll Number: 150503, Minor Department: CH\n",
            "Roll Number: 571782, Minor Department: ME\n",
            "Roll Number: 716985, Minor Department: MM\n",
            "Roll Number: 194063, Minor Department: EP\n",
            "Roll Number: 265922, Minor Department: EP\n",
            "Roll Number: 482623, Minor Department: IE\n",
            "Roll Number: 329535, Minor Department: EC\n",
            "Roll Number: 207443, Minor Department: ME\n",
            "Roll Number: 810863, Minor Department: CE\n",
            "Roll Number: 973158, Minor Department: EE\n",
            "Roll Number: 143142, Minor Department: CSE\n",
            "Roll Number: 970791, Minor Department: MA\n",
            "Roll Number: 907454, Minor Department: CSE\n",
            "Roll Number: 888886, Minor Department: CE\n",
            "Roll Number: 608522, Minor Department: EC\n",
            "Roll Number: 608952, Minor Department: EP\n",
            "Roll Number: 143856, Minor Department: CE\n",
            "Roll Number: 773982, Minor Department: EE\n",
            "Roll Number: 960395, Minor Department: EE\n",
            "Roll Number: 283796, Minor Department: ME\n",
            "Roll Number: 461584, Minor Department: EE\n",
            "Roll Number: 879634, Minor Department: EP\n",
            "Roll Number: 597353, Minor Department: CSE\n",
            "Roll Number: 845623, Minor Department: EE\n",
            "Roll Number: 465496, Minor Department: MA\n",
            "Roll Number: 718510, Minor Department: EP\n",
            "Roll Number: 534763, Minor Department: MA\n",
            "Roll Number: 680096, Minor Department: CH\n",
            "Roll Number: 836881, Minor Department: MM\n",
            "Roll Number: 787967, Minor Department: EC\n",
            "Roll Number: 344265, Minor Department: CSE\n",
            "Roll Number: 581858, Minor Department: MA\n",
            "Roll Number: 391848, Minor Department: ME\n",
            "Roll Number: 485484, Minor Department: MM\n",
            "Roll Number: 775967, Minor Department: EC\n",
            "Roll Number: 138296, Minor Department: MM\n",
            "Roll Number: 381526, Minor Department: CE\n",
            "Roll Number: 681499, Minor Department: CH\n",
            "Roll Number: 816041, Minor Department: MA\n",
            "Roll Number: 971123, Minor Department: MA\n",
            "Roll Number: 199713, Minor Department: EE\n",
            "Roll Number: 630568, Minor Department: EP\n",
            "Roll Number: 379479, Minor Department: MA\n",
            "Roll Number: 362471, Minor Department: EE\n",
            "Roll Number: 703403, Minor Department: EC\n",
            "Roll Number: 388969, Minor Department: CSE\n",
            "Roll Number: 836431, Minor Department: EE\n",
            "Roll Number: 582912, Minor Department: CH\n",
            "Roll Number: 381227, Minor Department: CE\n",
            "Roll Number: 478606, Minor Department: CE\n",
            "Roll Number: 159438, Minor Department: EE\n",
            "Roll Number: 733782, Minor Department: CH\n",
            "Roll Number: 782129, Minor Department: MA\n",
            "Roll Number: 144528, Minor Department: ME\n",
            "Roll Number: 851029, Minor Department: CSE\n",
            "Roll Number: 881983, Minor Department: MA\n",
            "Roll Number: 458200, Minor Department: EC\n",
            "Roll Number: 998293, Minor Department: ME\n",
            "Roll Number: 628849, Minor Department: MA\n",
            "Roll Number: 995208, Minor Department: ME\n",
            "Roll Number: 613401, Minor Department: CE\n",
            "Roll Number: 301135, Minor Department: IE\n",
            "Roll Number: 500658, Minor Department: CE\n",
            "Roll Number: 488661, Minor Department: EE\n",
            "Roll Number: 788020, Minor Department: CE\n",
            "Roll Number: 626000, Minor Department: EC\n",
            "Roll Number: 955757, Minor Department: MM\n",
            "Roll Number: 841365, Minor Department: MA\n",
            "Roll Number: 750259, Minor Department: MM\n",
            "Roll Number: 572815, Minor Department: CSE\n",
            "Roll Number: 521087, Minor Department: CSE\n",
            "Roll Number: 214270, Minor Department: CH\n",
            "Roll Number: 461971, Minor Department: CE\n",
            "Roll Number: 692318, Minor Department: CSE\n",
            "Roll Number: 145372, Minor Department: EP\n",
            "Roll Number: 588946, Minor Department: MA\n",
            "Roll Number: 834515, Minor Department: MA\n",
            "Roll Number: 208100, Minor Department: EE\n",
            "Roll Number: 871746, Minor Department: IE\n",
            "Roll Number: 327122, Minor Department: MM\n",
            "Roll Number: 581065, Minor Department: EP\n",
            "Roll Number: 203200, Minor Department: CH\n",
            "Roll Number: 294697, Minor Department: MM\n",
            "Roll Number: 993835, Minor Department: CE\n",
            "Roll Number: 282482, Minor Department: MM\n"
          ]
        }
      ]
    },
    {
      "cell_type": "markdown",
      "source": [
        "ANSWER 2 E"
      ],
      "metadata": {
        "id": "OpdUeCLDm9_o"
      }
    },
    {
      "cell_type": "code",
      "source": [
        "file_path = \"student_records.csv\"\n",
        "\n",
        "def find_students_with_honours(file_path, required_honours_credits, required_core_credits):\n",
        "    student_data = {}\n",
        "\n",
        "    with open(file_path, mode=\"r\") as file:\n",
        "        csv_reader = csv.DictReader(file)\n",
        "        for row in csv_reader:\n",
        "            roll_number = row[\"roll_number\"]\n",
        "            course_type = row[\"course_type\"]\n",
        "            credit = int(row[\"credit\"])\n",
        "\n",
        "            if roll_number not in student_data:\n",
        "                student_data[roll_number] = {\"honours\": 0, \"core\": 0}\n",
        "\n",
        "            if course_type in student_data[roll_number]:\n",
        "                student_data[roll_number][course_type] += credit\n",
        "\n",
        "    eligible_students = []\n",
        "    for roll_number, credit_data in student_data.items():\n",
        "        if (credit_data[\"honours\"] >= required_honours_credits and\n",
        "            credit_data[\"core\"] >= required_core_credits):\n",
        "            eligible_students.append(roll_number)\n",
        "\n",
        "    return eligible_students\n",
        "\n",
        "required_honours_credits = 10\n",
        "required_core_credits = 20\n",
        "\n",
        "eligible_students = find_students_with_honours(file_path, required_honours_credits, required_core_credits)\n",
        "\n",
        "if eligible_students:\n",
        "    print(\"Roll Numbers of Students Who Completed Honours:\")\n",
        "    print(\"\\n\".join(eligible_students))\n",
        "else:\n",
        "    print(\"No students have completed honours.\")\n"
      ],
      "metadata": {
        "colab": {
          "base_uri": "https://localhost:8080/"
        },
        "collapsed": true,
        "id": "iWIdJfpdm-K5",
        "outputId": "f3ebb304-76ac-47c6-9fca-41dd0da78b60"
      },
      "execution_count": 7,
      "outputs": [
        {
          "output_type": "stream",
          "name": "stdout",
          "text": [
            "Roll Numbers of Students Who Completed Honours:\n",
            "588946\n",
            "145372\n",
            "834515\n",
            "781075\n",
            "836881\n",
            "310604\n",
            "773982\n",
            "500658\n",
            "810863\n",
            "124663\n",
            "364146\n",
            "871746\n",
            "986057\n",
            "718510\n",
            "379479\n",
            "582912\n",
            "788020\n",
            "613401\n",
            "144528\n",
            "485484\n",
            "199713\n",
            "845623\n",
            "150503\n",
            "214270\n",
            "517837\n",
            "482623\n",
            "721490\n",
            "955757\n",
            "589528\n",
            "143856\n",
            "571782\n",
            "973158\n",
            "703403\n",
            "960395\n",
            "521087\n",
            "461971\n",
            "879634\n",
            "716985\n",
            "265922\n",
            "283796\n",
            "203200\n",
            "327122\n",
            "534763\n",
            "391848\n",
            "971123\n",
            "207443\n",
            "488661\n",
            "782129\n",
            "928288\n",
            "581858\n",
            "282482\n",
            "572815\n",
            "608952\n",
            "628849\n",
            "630568\n",
            "388969\n",
            "159438\n",
            "870642\n",
            "970791\n",
            "143142\n",
            "998293\n",
            "681499\n",
            "888886\n",
            "608522\n",
            "362471\n",
            "465496\n",
            "208100\n",
            "692318\n",
            "626000\n",
            "458200\n",
            "581065\n",
            "787967\n",
            "750259\n",
            "881983\n",
            "294697\n"
          ]
        }
      ]
    },
    {
      "cell_type": "markdown",
      "source": [
        "ANSWER SCIPY A"
      ],
      "metadata": {
        "id": "2ZbPXZWlN8Qr"
      }
    },
    {
      "cell_type": "code",
      "source": [
        "import numpy as np\n",
        "from scipy.optimize import minimize\n",
        "\n",
        "def objective_function(x):\n",
        "    \"\"\"Function to be minimized.\"\"\"\n",
        "    x1, x2 = x\n",
        "    return 2 * (x1 - x2 - 3)**2 + 4 * (x1 + 2*x2 + 1)**4\n",
        "\n",
        "def constraint1(x):\n",
        "    \"\"\"Constraint 1: x1 - x2 >= -3\"\"\"\n",
        "    x1, x2 = x\n",
        "    return x1 - x2 + 3\n",
        "\n",
        "def constraint2(x):\n",
        "    \"\"\"Constraint 2: (x1 + 2)^2 + (x2 + 1)^2 <= 5\"\"\"\n",
        "    x1, x2 = x\n",
        "    return 5 - (x1 + 2)**2 - (x2 + 1)**2\n",
        "\n",
        "x0 = np.array([0, 0])\n",
        "\n",
        "cons = ({'type': 'ineq', 'fun': constraint1},\n",
        "        {'type': 'ineq', 'fun': constraint2})\n",
        "\n",
        "result = minimize(objective_function, x0, method='SLSQP', constraints=cons)\n",
        "\n",
        "print(\"Minimized function value:\", result.fun)\n",
        "print(\"Optimal solution:\", result.x)"
      ],
      "metadata": {
        "colab": {
          "base_uri": "https://localhost:8080/"
        },
        "id": "bWP4T8cqONGS",
        "outputId": "09ed8d48-8b04-412a-e65a-27cf0b59701b"
      },
      "execution_count": 8,
      "outputs": [
        {
          "output_type": "stream",
          "name": "stdout",
          "text": [
            "Minimized function value: 7.345026216977383\n",
            "Optimal solution: [ 0.23492503 -0.92851489]\n"
          ]
        }
      ]
    },
    {
      "cell_type": "markdown",
      "source": [
        "ANSWER SCIPY B"
      ],
      "metadata": {
        "id": "-6Nh4Koj46NO"
      }
    },
    {
      "cell_type": "code",
      "source": [
        "import numpy as np\n",
        "from scipy.integrate import quad\n",
        "\n",
        "def f(x, y):\n",
        "    return x**2 + y**4\n",
        "\n",
        "R = np.sqrt(3)\n",
        "\n",
        "def x(t):\n",
        "    return R * np.cos(t)\n",
        "\n",
        "def y(t):\n",
        "    return R * np.sin(t)\n",
        "\n",
        "def dx_dt(t):\n",
        "    return -R * np.sin(t)\n",
        "\n",
        "def dy_dt(t):\n",
        "    return R * np.cos(t)\n",
        "\n",
        "def integrand(t):\n",
        "    return f(x(t), y(t)) * np.sqrt(dx_dt(t)**2 + dy_dt(t)**2)\n",
        "\n",
        "result, error = quad(integrand, 0, 2 * np.pi)\n",
        "\n",
        "print(f\"Line integral result: {result}\")\n",
        "print(f\"Error estimate: {error}\")\n"
      ],
      "metadata": {
        "colab": {
          "base_uri": "https://localhost:8080/"
        },
        "id": "ix5GG0Q148Dx",
        "outputId": "3073e471-5061-406c-e4fa-1429d4d7eaf6"
      },
      "execution_count": 9,
      "outputs": [
        {
          "output_type": "stream",
          "name": "stdout",
          "text": [
            "Line integral result: 53.05363140385085\n",
            "Error estimate: 5.376843748017279e-09\n"
          ]
        }
      ]
    },
    {
      "cell_type": "markdown",
      "source": [
        "ANSWER NUMPY\n"
      ],
      "metadata": {
        "id": "x3zfTVVo4_5-"
      }
    },
    {
      "cell_type": "code",
      "source": [
        "import time # to time the execution\n",
        "import numpy as np\n",
        "import matplotlib.pyplot as plt\n"
      ],
      "metadata": {
        "id": "LHJylLvL6upI"
      },
      "execution_count": 10,
      "outputs": []
    },
    {
      "cell_type": "code",
      "source": [
        "def load_data(spice_locations):\n",
        "\n",
        "    import numpy as np\n",
        "    try:\n",
        "        data = np.loadtxt(spice_locations, delimiter=',')\n",
        "        return data\n",
        "    except Exception as e:\n",
        "        print(f\"Error loading data from {spice_locations}: {e}\")\n",
        "        return None\n"
      ],
      "metadata": {
        "id": "3l1CYwIg6xDr"
      },
      "execution_count": 11,
      "outputs": []
    },
    {
      "cell_type": "code",
      "source": [
        "def initialise_centers(data, K, init_centers=None):\n",
        "\n",
        "    import numpy as np\n",
        "    if init_centers is None:\n",
        "        indices = np.random.choice(data.shape[0], size=K, replace=False)\n",
        "        centers = data[indices]\n",
        "    else:\n",
        "        centers = init_centers\n",
        "\n",
        "    return centers\n",
        "\n"
      ],
      "metadata": {
        "id": "b9Sik17YRX48"
      },
      "execution_count": 12,
      "outputs": []
    },
    {
      "cell_type": "code",
      "source": [
        "def initialise_labels(data):\n",
        "\n",
        "    import numpy as np\n",
        "    labels = np.ones(data.shape[0], dtype=int)\n",
        "\n",
        "    return labels\n"
      ],
      "metadata": {
        "id": "u8Qm5EeNSN-o"
      },
      "execution_count": 13,
      "outputs": []
    },
    {
      "cell_type": "code",
      "source": [
        "def calculate_distances(data, centers):\n",
        "\n",
        "    import numpy as np\n",
        "    distances = np.sqrt(\n",
        "        np.sum((data[:, np.newaxis, :] - centers[np.newaxis, :, :]) ** 2, axis=2)\n",
        "    )\n",
        "    return distances\n"
      ],
      "metadata": {
        "id": "MX_vxYXpSQCJ"
      },
      "execution_count": 14,
      "outputs": []
    },
    {
      "cell_type": "code",
      "source": [
        "def update_labels(distances):\n",
        "\n",
        "    import numpy as np\n",
        "    labels = np.argmin(distances, axis=1)\n",
        "\n",
        "    return labels\n"
      ],
      "metadata": {
        "id": "I8Cf8ZiySamv"
      },
      "execution_count": 15,
      "outputs": []
    },
    {
      "cell_type": "code",
      "source": [
        "def update_centers(data, labels, K):\n",
        "\n",
        "    import numpy as np\n",
        "    updated_centers = np.zeros((K, data.shape[1]))\n",
        "\n",
        "    for k in range(K):\n",
        "        cluster_points = data[labels == k]\n",
        "\n",
        "        if cluster_points.size > 0:\n",
        "            updated_centers[k] = np.mean(cluster_points, axis=0)\n",
        "\n",
        "    return updated_centers\n"
      ],
      "metadata": {
        "id": "HpRqNkp4SmJd"
      },
      "execution_count": 16,
      "outputs": []
    },
    {
      "cell_type": "code",
      "source": [
        "def check_termination(labels1, labels2):\n",
        "\n",
        "    import numpy as np\n",
        "\n",
        "    return np.array_equal(labels1, labels2)\n"
      ],
      "metadata": {
        "id": "ZV-AZcB4S2hd"
      },
      "execution_count": 17,
      "outputs": []
    },
    {
      "cell_type": "code",
      "source": [
        "\n",
        "### DON'T CHANGE ANYTHING IN THE FOLLOWING FUNCTION\n",
        "def kmeans(data_path:str, K:int, init_centers):\n",
        "    '''\n",
        "    Input :\n",
        "        data (type str): path to the file containing the data\n",
        "        K (type int): number of clusters\n",
        "        init_centers (type numpy.ndarray): initial centers. shape = (K, 2) or None\n",
        "    Output :\n",
        "        centers (type numpy.ndarray): final centers. shape = (K, 2)\n",
        "        labels (type numpy.ndarray): label of each data point. shape = (N,)\n",
        "        time (type float): time taken by the algorithm to converge in seconds\n",
        "    N is the number of data points each of shape (2,)\n",
        "    '''\n",
        "    data = load_data(data_path)\n",
        "    centers = initialise_centers(data, K, init_centers)\n",
        "    labels = initialise_labels(data)\n",
        "\n",
        "    start_time = time.time()\n",
        "\n",
        "    while True:\n",
        "        distances = calculate_distances(data, centers)\n",
        "        labels_new = update_labels(distances)\n",
        "        centers = update_centers(data, labels_new, K)\n",
        "        if check_termination(labels, labels_new): break\n",
        "        else: labels = labels_new\n",
        "\n",
        "    end_time = time.time()\n",
        "    return centers, labels, end_time - start_time"
      ],
      "metadata": {
        "id": "uhhMpVLrS-eT"
      },
      "execution_count": 18,
      "outputs": []
    },
    {
      "cell_type": "code",
      "source": [
        "import matplotlib.pyplot as plt\n",
        "import numpy as np\n",
        "\n",
        "def visualise(data_path, labels, centers):\n",
        "\n",
        "    data = load_data(data_path)\n",
        "\n",
        "    plt.scatter(data[:, 0], data[:, 1], c=labels, s=50, cmap='viridis', label='Data Points')\n",
        "\n",
        "    plt.scatter(centers[:, 0], centers[:, 1], c='black', s=200, alpha=0.5, label='Cluster Centers')\n",
        "\n",
        "    plt.title('K-means Clustering')\n",
        "    plt.xlabel('Longitude')\n",
        "    plt.ylabel('Latitude')\n",
        "\n",
        "    plt.legend()\n",
        "\n",
        "    plt.savefig('kmeans.png')\n",
        "\n",
        "    return plt\n"
      ],
      "metadata": {
        "id": "7NoqbD59TD8I"
      },
      "execution_count": 19,
      "outputs": []
    },
    {
      "cell_type": "code",
      "source": [
        "data_path = 'spice_locations.txt'\n",
        "K, init_centers = 2, None\n",
        "\n",
        "centers, labels, time_taken = kmeans(data_path, K, init_centers)\n",
        "\n",
        "print('Time taken for the algorithm to converge:', time_taken)\n",
        "\n",
        "visualise(data_path, labels, centers)\n"
      ],
      "metadata": {
        "colab": {
          "base_uri": "https://localhost:8080/",
          "height": 507
        },
        "id": "JKEhwvJ4TQzJ",
        "outputId": "f7c2ae47-e2c0-4928-a8dc-cbebaed3f1d9"
      },
      "execution_count": 20,
      "outputs": [
        {
          "output_type": "stream",
          "name": "stdout",
          "text": [
            "Time taken for the algorithm to converge: 0.0008139610290527344\n"
          ]
        },
        {
          "output_type": "execute_result",
          "data": {
            "text/plain": [
              "<module 'matplotlib.pyplot' from '/usr/local/lib/python3.10/dist-packages/matplotlib/pyplot.py'>"
            ]
          },
          "metadata": {},
          "execution_count": 20
        },
        {
          "output_type": "display_data",
          "data": {
            "text/plain": [
              "<Figure size 640x480 with 1 Axes>"
            ],
            "image/png": "[encoded data removed]"
          },
          "metadata": {}
        }
      ]
    }
  ]
}